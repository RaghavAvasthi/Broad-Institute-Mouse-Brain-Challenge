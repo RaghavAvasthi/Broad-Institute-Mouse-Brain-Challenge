{
 "cells": [
  {
   "cell_type": "markdown",
   "metadata": {},
   "source": [
    "#                           Image Stitching and Preprocessing Script"
   ]
  },
  {
   "cell_type": "markdown",
   "metadata": {},
   "source": [
    "Given was a URL with slices of MRI images, which appeared to be taken on different magnification levels, spread through different subdirectories in a folder.\n",
    "\n",
    "The task was to collect these images and stitch them to recreate the original MRI images from the slices given. Another task was to then preprocess and prepare these images to be used in a neural network for training."
   ]
  },
  {
   "cell_type": "markdown",
   "metadata": {},
   "source": [
    "### Importing Required Libraries"
   ]
  },
  {
   "cell_type": "code",
   "execution_count": null,
   "metadata": {},
   "outputs": [],
   "source": [
    "\"\"\"\n",
    "Created on Wed Aug 14 17:06:50 2019\n",
    "\n",
    "@author: Raghav Avasthi\n",
    "\n",
    "The script helps stitching images together and preprocess them for prepareing the \n",
    "stitched images to be fed into a neural network. \n",
    "\"\"\"\n",
    "\n",
    "import os\n",
    "import cv2\n",
    "import matplotlib.pyplot as plt\n",
    "import numpy as np\n",
    "import sys\n",
    "import skimage as ski\n"
   ]
  },
  {
   "cell_type": "markdown",
   "metadata": {},
   "source": [
    "## Stitching MRI Image Segments"
   ]
  },
  {
   "cell_type": "markdown",
   "metadata": {},
   "source": [
    "### It converts segments of images such as this "
   ]
  },
  {
   "cell_type": "markdown",
   "metadata": {},
   "source": [
    "![title](images/segments1.png)"
   ]
  },
  {
   "cell_type": "markdown",
   "metadata": {},
   "source": [
    "### to this .."
   ]
  },
  {
   "cell_type": "markdown",
   "metadata": {},
   "source": [
    "![title](images/full.jpg)"
   ]
  },
  {
   "cell_type": "code",
   "execution_count": null,
   "metadata": {},
   "outputs": [],
   "source": [
    "def stitch_segments(folder_path, magnification_level, input_check_exec = True):\n",
    "    '''\n",
    "    Description\n",
    "    -----------\n",
    "    Given the path of the folder containing segmented images and a specified magnification level, the function stitches all the image segments to create a complete bigger image.\n",
    "    It expects the image segments to be named in the format z-x-y.jpg where 'z' corresponds to the magnification level at which that iamge was taken and 'x' and 'y' correspond\n",
    "    to the segmentation indexes according to which segments were made in the horizontal(latitudnal) and vertical(longitudinal) directions respectively.\n",
    "    \n",
    "    Parameters\n",
    "    ----------\n",
    "        folder_path:\n",
    "            Path of the folder containing segments of an MRI image, on different magnification levels.\n",
    "            \n",
    "        magnification_level:\n",
    "            Integer depicting the desired magnification level for which stitching needs to be done. \n",
    "        \n",
    "        input_check_exec:\n",
    "            Accepts a boolean value. If True, code will stop execution if any od the checks made on input fails. Else, the function would return \n",
    "            'None' so that execution of the code can be continued. Default value of this variable is TRUE.\n",
    "        \n",
    "    Returns\n",
    "    -------\n",
    "        lat_concat:\n",
    "            Returns a 3 channel 'uint8' numpy matrix stitched image made up of all the segments in a given magnification level.\n",
    "            Returns None if inputs to the function do not pass the initial checks\n",
    "    '''\n",
    "    \n",
    "    "
   ]
  },
  {
   "cell_type": "markdown",
   "metadata": {},
   "source": [
    "### Placing checks for incoming values in the function"
   ]
  },
  {
   "cell_type": "code",
   "execution_count": null,
   "metadata": {},
   "outputs": [],
   "source": [
    "    if input_check_exec:\n",
    "        if not os.path.exists(folder_path):\n",
    "            print('\\n' + 'ERROR: Folder path does not exist. Stopping code execution' + '\\n')\n",
    "            sys.exit()\n",
    "            \n",
    "        list_crops = os.listdir(folder_path) # listing the names of all image segment from folder_mri, in ascending order\n",
    "        if not list_crops:\n",
    "            print('\\n' + 'ERROR: Folder path does not contain any files. Stopping code execution' + '\\n')\n",
    "            sys.exit()\n",
    "        \n",
    "        if not isinstance(magnification_level, int):\n",
    "            print('\\n' + 'ERROR: Magnification level supplied is not an integer. Stopping code execution' + '\\n')\n",
    "            sys.exit()\n",
    "    \n",
    "    else:\n",
    "        if not os.path.exists(folder_path):\n",
    "            print('\\n' + 'ERROR: Folder path does not exist. Function is stopping execution and is returning \"None\". ' + '\\n')\n",
    "            return None\n",
    "            \n",
    "        list_crops = os.listdir(folder_path) # listing the names of all image segment from folder_mri, in ascending order\n",
    "        if not list_crops:\n",
    "            print('\\n' + 'ERROR: Folder path does not contain any files. Function is stopping execution and is returning \"None\".' + '\\n')\n",
    "            return None\n",
    "        \n",
    "        if not isinstance(magnification_level, int):\n",
    "            print('\\n' + 'ERROR: Magnification level supplied is not an integer. Function is stopping execution and is returning \"None\".' + '\\n')\n",
    "            return None   \n",
    "            \n",
    "            \n",
    "    ''' ALL INPUT CHECKS ARE COMPLETED FOR THE FUNCTION TO CONTINUE EXECUTION '''        "
   ]
  },
  {
   "cell_type": "markdown",
   "metadata": {},
   "source": [
    "### Looping through all segments to stitch the image. For each image, memory requirments increase linearly and drops to 0 suddenly as image changes"
   ]
  },
  {
   "cell_type": "code",
   "execution_count": null,
   "metadata": {},
   "outputs": [],
   "source": [
    "    mag = 0  # Initialization of the iterating mag variable. Mag refers to the magnification specified in the image name being parsed\n",
    "    img_index = 1 # parsing index  \n",
    "    lat_index = 0 # index parsing over latitudenal values \n",
    "    long_index = 0 # index parsing over longitudinal values\n",
    "    \n",
    "    while mag <= magnification_level: # while loop parses till it goes beyond the required magnification\n",
    "        mag, lat, long  = (list_crops[img_index].split('.')[0]).split('-') \n",
    "        # disintigrating the magnification level, latitude, and the longitude of an image segment from its image name\n",
    "        mag = int(mag)\n",
    "        lat = int(lat)\n",
    "        long = int(long)\n",
    "        \n",
    "        if mag == magnification_level:\n",
    "    # ===============================================================================================================================================\n",
    "    # The while loop here has nested if else statements for parsing and stitching each image. After checking if the magnitude, stitching is done\n",
    "    # longitudnally first, keeping the latitude(horizontal axis) constant. Once a longitudinal segment of the image is stitched, it is latitudnally \n",
    "    # (horizonally) concatinated with other longnitudianl segments. This is an iterative process\n",
    "    # ===============================================================================================================================================\n",
    "            if lat == lat_index: \n",
    "    # checks if the latitude is changing while parsing images, if it does not, it does longitudinal concatination, else sets a starting pont for it\n",
    "                image = np.asarray(cv2.imread(os.path.join(folder_path,list_crops[img_index])))\n",
    "                if long == long_index:\n",
    "                    concat_img = image  # Setting the starting point for longitudinal concatination\n",
    "                elif long == long_index + 1:\n",
    "                    concat_img = np.concatenate((concat_img, image), axis = 0) # Longitudinal concatination takes place here\n",
    "                    long_index  = long_index + 1\n",
    "                img_index = img_index + 1\n",
    "            else:\n",
    "                long_index = 0 \n",
    "                old_concat = concat_img # saving the completed longitudinal concatination in a temporary variable, for use in latitudinal concatination later\n",
    "                image = np.asarray(cv2.imread(os.path.join(folder_path,list_crops[img_index])))\n",
    "                concat_img = image # Setting the starting point for longitudinal concatination when latitude changes\n",
    "                lat_index = lat_index + 1\n",
    "                if lat_index <=1:\n",
    "                    lat_concat = old_concat\n",
    "                else:\n",
    "                    lat_concat = np.concatenate((lat_concat, old_concat), axis = 1) # Concatinating completed longitudinal segments, in horizontal direction\n",
    "        else:\n",
    "            img_index = img_index + 1\n",
    "    lat_concat = np.concatenate((lat_concat, concat_img), axis = 1) \n",
    "    lat_concat = cv2.cvtColor(lat_concat, cv2.COLOR_RGB2BGR)\n",
    "    return lat_concat      "
   ]
  },
  {
   "cell_type": "markdown",
   "metadata": {},
   "source": [
    "## Basic Preprocessing to Crop and Resize the Stitched Image"
   ]
  },
  {
   "cell_type": "markdown",
   "metadata": {},
   "source": [
    "Stitched images many times have very less usefull data in them. Taking the example of the image given above, one can notice that the MRI image resides only in approximately 40% of the image. Since the images are too big to be fed into a neural network, we can crop them to emphasize on the useful data in the image."
   ]
  },
  {
   "cell_type": "markdown",
   "metadata": {},
   "source": [
    "Images are then padded with their border pixels to make them square in shape and then they are resized to the desired level. In this example all incoming images will be resized to 224 x 224 x 3 size as they are to be fed into a MobileNet V2 for classification and network training."
   ]
  },
  {
   "cell_type": "markdown",
   "metadata": {},
   "source": [
    "### This function turns images from this "
   ]
  },
  {
   "cell_type": "markdown",
   "metadata": {},
   "source": [
    "![title](images/full.jpg)"
   ]
  },
  {
   "cell_type": "markdown",
   "metadata": {},
   "source": [
    "### to this .. "
   ]
  },
  {
   "cell_type": "markdown",
   "metadata": {},
   "source": [
    "![title](images/full_cropped.png)"
   ]
  },
  {
   "cell_type": "code",
   "execution_count": null,
   "metadata": {},
   "outputs": [],
   "source": [
    "def crop_n_resize(image, border_margin = 10, size_x = 512, size_y = 512):\n",
    "    '''\n",
    "    Description\n",
    "    -----------\n",
    "    Given an image in 'uint8' format, the function does the following operations on the image to standardize it.\n",
    "    > Finds the largest bounding box in the image containing the whole MRI object in the image.\n",
    "    > Crops the image as per the bounding box leaving a margin specified by 'border_margin'\n",
    "    > Pads the image to make it square shape. Padding is done by replicating the border pixels\n",
    "    > Resizes the image to the desired size\n",
    "    \n",
    "    Parameters\n",
    "    ----------\n",
    "        image:\n",
    "            Accepts a 3-channel image in uint8 format.\n",
    "            \n",
    "        border_margin:\n",
    "            Accepts an integer depicting the amount of margin to be kept while cropping the image from its smallest bounding box possible. \n",
    "            Default is 10.\n",
    "        \n",
    "        size_x:\n",
    "            Accepts an interger value. It is the desired width of the resultant image after resize. Default is 512.\n",
    "        \n",
    "        size_y:\n",
    "            Accepts an interger value. It is the desired height of the resultant image after resize. Default is 512.\n",
    "        \n",
    "    Returns\n",
    "    -------\n",
    "        lat_concat:\n",
    "            Returns a 3 channel 'uint8' numpy matrix stitched image made up of all the segments in a given magnification level.\n",
    "            Returns None if inputs to the function do not pass the initial checks.\n",
    "    '''"
   ]
  },
  {
   "cell_type": "markdown",
   "metadata": {},
   "source": [
    "### Placing checks for incoming values in the function"
   ]
  },
  {
   "cell_type": "code",
   "execution_count": null,
   "metadata": {},
   "outputs": [],
   "source": [
    "    if not isinstance(border_margin, int):\n",
    "        print('\\n' + 'ERROR: Border Margin supplied is not an integer. Stopping code execution' + '\\n')\n",
    "        sys.exit()\n",
    "    if not isinstance(size_x, int):\n",
    "        print('\\n' + 'ERROR: Desired width of the output image supplied is not an integer. Stopping code execution' + '\\n')\n",
    "        sys.exit()\n",
    "    if not isinstance(size_y, int):\n",
    "        print('\\n' + 'ERROR: Desired height of the output image supplied is not an integer. Stopping code execution' + '\\n')\n",
    "        sys.exit()\n",
    "   "
   ]
  },
  {
   "cell_type": "markdown",
   "metadata": {},
   "source": [
    "### Cropping, Padding and Resizing the Images "
   ]
  },
  {
   "cell_type": "code",
   "execution_count": null,
   "metadata": {},
   "outputs": [],
   "source": [
    "    gray = cv2.cvtColor(image, cv2.COLOR_RGB2GRAY) # converting the image into grayscale\n",
    "    _,bw = cv2.threshold(gray,210,255,cv2.THRESH_BINARY_INV) # converting graysacle image into binary for morphological operations\n",
    "    bw = cv2.erode(bw, np.ones((5,5), np.uint8), 10) # Erosion and dilution to remove any salt and pepper noise\n",
    "    bw = cv2.dilate(bw, np.ones((5,5), np.uint8), 10)\n",
    "    label_bw = ski.measure.label(bw)\n",
    "    del bw\n",
    "    box_concat = None\n",
    "    for region in ski.measure.regionprops(label_bw):\n",
    "        box = np.asarray(region.bbox).reshape(4,1) # Calcualting bounding box for all objects in the image\n",
    "        if box_concat is None: box_concat = box\n",
    "        box_concat = np.concatenate((box_concat, box), axis = 1) # Concatinating all bounding box results to find the extrema points\n",
    "    del label_bw\n",
    "    (gray_row, gray_col) = gray.shape\n",
    "    row_min = max(0, min(box_concat[0]) - border_margin)\n",
    "    col_min = max(0, min(box_concat[1]) - border_margin) # Calcualted the extrema points\n",
    "    row_max = min(gray_row, max(box_concat[2]) + border_margin)\n",
    "    col_max = min(gray_col, max(box_concat[3]) + border_margin)\n",
    "    del box_concat\n",
    "    \n",
    "    crop_im = image[row_min:row_max, col_min:col_max,:] # Cropped the image as per calculated extremas\n",
    "    (r,c,_) = crop_im.shape\n",
    "    \n",
    "    if r > c: # Made the image in square shape \n",
    "        diff = r-c\n",
    "        pad = int(diff / 2)\n",
    "        crop_im = cv2.copyMakeBorder(crop_im,0,0,pad,pad,cv2.BORDER_REPLICATE)# Used padding by replicating the border pixels to make square \n",
    "    elif r < c:\n",
    "        diff = c-r\n",
    "        pad = int(diff / 2)\n",
    "        crop_im = cv2.copyMakeBorder(crop_im,pad,pad,0,0,cv2.BORDER_REPLICATE)\n",
    "    crop_im = cv2.resize(crop_im,(size_x,size_y)) # resized the resultant image to the deisred size\n",
    "    return crop_im"
   ]
  },
  {
   "cell_type": "markdown",
   "metadata": {},
   "source": [
    "## Main Function to execute all preprocessing steps in a single go! "
   ]
  },
  {
   "cell_type": "code",
   "execution_count": null,
   "metadata": {},
   "outputs": [],
   "source": [
    "if __name__ == '__main__':\n",
    "    data_dir = r'C:\\Users\\Raghav Avasthi\\Desktop\\mouse brain\\Brain_Dataset_Color\\validate\\horizontal'\n",
    "    save_dir = r'C:\\Users\\Raghav Avasthi\\Desktop\\mouse brain\\Brain_Dataset_Color_Pre\\validate\\horizontal'\n",
    "    list_mri = os.listdir(data_path)\n",
    "    index=0\n",
    "    for image_name in list_mri:\n",
    "        image = np.asarray(cv2.imread(os.path.join(data_dir,image_name)))\n",
    "        folder_mri = os.path.join(data_dir, list_mri[index]) # selecting a single folder which corresponds to a single MRI image\n",
    "        \n",
    "        image = stitch_segments(folder_mri, 3) # Applying functon to stitch MRI image segments \n",
    "        \n",
    "        # Applying function to select the best portion of image data from the MRI image, pad it and resize it into desired shape.\n",
    "        final_im = crop_n_resize(image, size_x = 224, size_y = 224)\n",
    "        \n",
    "        save_path = os.path.join(save_dir, image_name) # creating a path where final image will be saved, complete with the name of the image.\n",
    "\n",
    "        cv2.imwrite(save_path, final_im) # Saving the image in the directory specified in 'save_dir' with preserving the name of the MRI image.\n"
   ]
  }
 ],
 "metadata": {
  "kernelspec": {
   "display_name": "Python 3",
   "language": "python",
   "name": "python3"
  },
  "language_info": {
   "codemirror_mode": {
    "name": "ipython",
    "version": 3
   },
   "file_extension": ".py",
   "mimetype": "text/x-python",
   "name": "python",
   "nbconvert_exporter": "python",
   "pygments_lexer": "ipython3",
   "version": "3.6.9"
  }
 },
 "nbformat": 4,
 "nbformat_minor": 2
}
